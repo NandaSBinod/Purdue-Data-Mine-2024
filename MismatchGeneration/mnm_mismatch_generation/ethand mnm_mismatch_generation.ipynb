{
 "cells": [
  {
   "cell_type": "markdown",
   "id": "20db9ba0-c5db-4b7b-8a4b-4af73008bc4f",
   "metadata": {},
   "source": [
    "# Mix'n'match Mismatch Generation\n",
    "\n",
    "This notebook is used to genrate mismatches for [Mismatch Finder](https://www.wikidata.org/wiki/Wikidata:Mismatch_Finder) via a request to [Mix'n'match](https://meta.wikimedia.org/wiki/Mix%27n%27match) data stores. Data will be formatted for upload given the [directions for creating a mismatch file](https://github.com/wmde/wikidata-mismatch-finder/blob/main/docs/UserGuide.md#creating-a-mismatches-import-file)."
   ]
  },
  {
   "cell_type": "code",
   "execution_count": 1,
   "id": "ee3a1901-41a4-4558-9001-e9798a9686ca",
   "metadata": {
    "scrolled": true
   },
   "outputs": [],
   "source": [
    "#!pip install jupyter-black\n",
    "#!pip install tensorflow\n",
    "#!pip install aiohttp"
   ]
  },
  {
   "cell_type": "code",
   "execution_count": 2,
   "id": "ff9d2e56-1e12-4db3-9b8e-36f3b81df627",
   "metadata": {},
   "outputs": [],
   "source": [
    "# %load_ext jupyter_black"
   ]
  },
  {
   "cell_type": "code",
   "execution_count": 3,
   "id": "dc6f4b0b-6250-4b42-9d1b-95f45ed81426",
   "metadata": {},
   "outputs": [],
   "source": [
    "import ast\n",
    "import json\n",
    "import sys\n",
    "import urllib\n",
    "\n",
    "import numpy as np\n",
    "import pandas as pd\n",
    "\n",
    "PATH_TO_UTILS = \"../\"  # change based on your directory structure\n",
    "sys.path.append(PATH_TO_UTILS)\n",
    "\n",
    "from utils import check_mf_formatting"
   ]
  },
  {
   "cell_type": "markdown",
   "id": "23829fcf-f016-472d-9218-b3eab24b9d24",
   "metadata": {},
   "source": [
    "## Get Data"
   ]
  },
  {
   "cell_type": "code",
   "execution_count": 4,
   "id": "35b8a007-91a1-428b-aeef-b284b6ba25ee",
   "metadata": {},
   "outputs": [],
   "source": [
    "mnm_mismatch_request_url = (\n",
    "    \"https://mix-n-match.toolforge.org/api.php?query=all_issues&mode=time_mismatch\"\n",
    ")"
   ]
  },
  {
   "cell_type": "code",
   "execution_count": 5,
   "id": "b62ba9a4-5ebf-4d94-adfa-c0c78502d548",
   "metadata": {},
   "outputs": [],
   "source": [
    "with urllib.request.urlopen(mnm_mismatch_request_url) as url:\n",
    "    mnm_mismatch_data = json.load(url)"
   ]
  },
  {
   "cell_type": "code",
   "execution_count": 6,
   "id": "77a565d4-5580-452e-ab83-cc8343d3e06c",
   "metadata": {},
   "outputs": [
    {
     "name": "stdout",
     "output_type": "stream",
     "text": [
      "82,996\n"
     ]
    }
   ],
   "source": [
    "print(f\"{len(mnm_mismatch_data['data']):,}\")"
   ]
  },
  {
   "cell_type": "code",
   "execution_count": 7,
   "id": "1cd4f7eb-b22e-44f0-a79d-d36430296381",
   "metadata": {},
   "outputs": [
    {
     "data": {
      "text/plain": [
       "[{'issue_id': '85584',\n",
       "  'entry_id': '44032422',\n",
       "  'time_mismatch': {'prop': 'P569',\n",
       "   'wd_time': '+1925-01-01T00:00:00Z',\n",
       "   'mnm_time': '+1926-07-04T00:00:00Z',\n",
       "   'q': 'Q329124'}},\n",
       " {'issue_id': '564195',\n",
       "  'entry_id': '115714460',\n",
       "  'time_mismatch': {'prop': 'P569',\n",
       "   'wd_time': '+1998-09-19T00:00:00Z',\n",
       "   'mnm_time': '+1987-04-17T00:00:00Z',\n",
       "   'q': 'Q107654539'}}]"
      ]
     },
     "execution_count": 7,
     "metadata": {},
     "output_type": "execute_result"
    }
   ],
   "source": [
    "mnm_mismatch_data[\"data\"][:2]"
   ]
  },
  {
   "cell_type": "code",
   "execution_count": 8,
   "id": "9bc5e35a-922f-411d-ada5-0f51693f2c1c",
   "metadata": {},
   "outputs": [],
   "source": [
    "mnm_mismatch_data_expanded = []\n",
    "for d in mnm_mismatch_data[\"data\"]:\n",
    "    d[\"source\"] = f\"https://mix-n-match.toolforge.org/#/entry/{d['entry_id']}\"\n",
    "    d.pop(\"issue_id\", None)\n",
    "    d[\"time_mismatch\"][\"pid\"] = d[\"time_mismatch\"].pop(\"prop\")\n",
    "    d[\"time_mismatch\"][\"qid\"] = d[\"time_mismatch\"].pop(\"q\")\n",
    "    d[\"item_id\"] = d[\"time_mismatch\"][\"qid\"]\n",
    "\n",
    "    mnm_mismatch_data_expanded.append(d)"
   ]
  },
  {
   "cell_type": "code",
   "execution_count": 9,
   "id": "a5b5dae5-6ee9-4ff1-a898-82ff85c0aca3",
   "metadata": {},
   "outputs": [
    {
     "data": {
      "text/plain": [
       "[{'entry_id': '44032422',\n",
       "  'time_mismatch': {'wd_time': '+1925-01-01T00:00:00Z',\n",
       "   'mnm_time': '+1926-07-04T00:00:00Z',\n",
       "   'pid': 'P569',\n",
       "   'qid': 'Q329124'},\n",
       "  'source': 'https://mix-n-match.toolforge.org/#/entry/44032422',\n",
       "  'item_id': 'Q329124'},\n",
       " {'entry_id': '115714460',\n",
       "  'time_mismatch': {'wd_time': '+1998-09-19T00:00:00Z',\n",
       "   'mnm_time': '+1987-04-17T00:00:00Z',\n",
       "   'pid': 'P569',\n",
       "   'qid': 'Q107654539'},\n",
       "  'source': 'https://mix-n-match.toolforge.org/#/entry/115714460',\n",
       "  'item_id': 'Q107654539'},\n",
       " {'entry_id': '29738972',\n",
       "  'time_mismatch': {'wd_time': '+1866-01-01T00:00:00Z',\n",
       "   'mnm_time': '+1867-09-28T00:00:00Z',\n",
       "   'pid': 'P569',\n",
       "   'qid': 'Q4710535'},\n",
       "  'source': 'https://mix-n-match.toolforge.org/#/entry/29738972',\n",
       "  'item_id': 'Q4710535'},\n",
       " {'entry_id': '82883700',\n",
       "  'time_mismatch': {'wd_time': '+1932-09-12T00:00:00Z',\n",
       "   'mnm_time': '+1923-09-12T00:00:00Z',\n",
       "   'pid': 'P569',\n",
       "   'qid': 'Q9355023'},\n",
       "  'source': 'https://mix-n-match.toolforge.org/#/entry/82883700',\n",
       "  'item_id': 'Q9355023'},\n",
       " {'entry_id': '19459326',\n",
       "  'time_mismatch': {'wd_time': '+1993-03-16T00:00:00Z',\n",
       "   'mnm_time': '+1991-03-16T00:00:00Z',\n",
       "   'pid': 'P570',\n",
       "   'qid': 'Q3511713'},\n",
       "  'source': 'https://mix-n-match.toolforge.org/#/entry/19459326',\n",
       "  'item_id': 'Q3511713'},\n",
       " {'entry_id': '100691729',\n",
       "  'time_mismatch': {'wd_time': '+1859-12-29T00:00:00Z',\n",
       "   'mnm_time': '+1879-12-28T00:00:00Z',\n",
       "   'pid': 'P570',\n",
       "   'qid': 'Q55126414'},\n",
       "  'source': 'https://mix-n-match.toolforge.org/#/entry/100691729',\n",
       "  'item_id': 'Q55126414'},\n",
       " {'entry_id': '14236922',\n",
       "  'time_mismatch': {'wd_time': '+1930-07-07T00:00:00Z',\n",
       "   'mnm_time': '+1960-07-07T00:00:00Z',\n",
       "   'pid': 'P569',\n",
       "   'qid': 'Q57038704'},\n",
       "  'source': 'https://mix-n-match.toolforge.org/#/entry/14236922',\n",
       "  'item_id': 'Q57038704'},\n",
       " {'entry_id': '107672493',\n",
       "  'time_mismatch': {'wd_time': '+1818-01-01T00:00:00Z',\n",
       "   'mnm_time': '+1815-09-19T00:00:00Z',\n",
       "   'pid': 'P569',\n",
       "   'qid': 'Q94577164'},\n",
       "  'source': 'https://mix-n-match.toolforge.org/#/entry/107672493',\n",
       "  'item_id': 'Q94577164'},\n",
       " {'entry_id': '34936328',\n",
       "  'time_mismatch': {'wd_time': '+1909-04-10T00:00:00Z',\n",
       "   'mnm_time': '+1907-04-10T00:00:00Z',\n",
       "   'pid': 'P569',\n",
       "   'qid': 'Q28382531'},\n",
       "  'source': 'https://mix-n-match.toolforge.org/#/entry/34936328',\n",
       "  'item_id': 'Q28382531'},\n",
       " {'entry_id': '58145086',\n",
       "  'time_mismatch': {'wd_time': '+1938-08-23T00:00:00Z',\n",
       "   'mnm_time': '+1944-08-23T00:00:00Z',\n",
       "   'pid': 'P569',\n",
       "   'qid': 'Q6371539'},\n",
       "  'source': 'https://mix-n-match.toolforge.org/#/entry/58145086',\n",
       "  'item_id': 'Q6371539'}]"
      ]
     },
     "execution_count": 9,
     "metadata": {},
     "output_type": "execute_result"
    }
   ],
   "source": [
    "mnm_mismatch_data_expanded[:10]"
   ]
  },
  {
   "cell_type": "code",
   "execution_count": 10,
   "id": "a04e9275-271a-4e77-a74f-02d39e57f946",
   "metadata": {},
   "outputs": [
    {
     "data": {
      "text/plain": [
       "82996"
      ]
     },
     "execution_count": 10,
     "metadata": {},
     "output_type": "execute_result"
    }
   ],
   "source": [
    "mnm_mismatch_data_expanded = list(filter(lambda d: d[\"time_mismatch\"][\"wd_time\"] != d[\"time_mismatch\"][\"mnm_time\"], mnm_mismatch_data_expanded))\n",
    "len(mnm_mismatch_data_expanded)"
   ]
  },
  {
   "cell_type": "code",
   "execution_count": 11,
   "id": "cd9268f5-517c-4177-8c06-13b6057c30d5",
   "metadata": {},
   "outputs": [],
   "source": [
    "import pandas as pd\n",
    "from numpy import NAN\n",
    "from tqdm import tqdm"
   ]
  },
  {
   "cell_type": "code",
   "execution_count": null,
   "id": "a182ed06-6729-4ae1-9373-4867705476a0",
   "metadata": {},
   "outputs": [],
   "source": [
    "acc = []\n",
    "for entry in tqdm(mnm_mismatch_data_expanded):\n",
    "    data = entry[\"time_mismatch\"]\n",
    "    req = f'https://www.wikidata.org/w/rest.php/wikibase/v0/entities/items/{entry[\"item_id\"]}?_fields=statements'\n",
    "    try:\n",
    "        with urllib.request.urlopen(req) as url:\n",
    "            wd_props = json.load(url)[\"statements\"]\n",
    "    except urllib.request.HTTPError as e:\n",
    "        # Fixed in newer version https://stackoverflow.com/questions/67723860/python-urllib-request-urlopen-http-error-308-permanent-redirect\n",
    "        print(\"Skipped\", req)\n",
    "        print(e)\n",
    "        continue\n",
    "    \n",
    "    if \"P1220\" not in wd_props:  # https://www.wikidata.org/wiki/Property:P1220\n",
    "        # No mix'n'match id, meaning it is automatic, not manual match & should be skipped\n",
    "        continue\n",
    "\n",
    "    with urllib.request.urlopen(f'https://mix-n-match.toolforge.org/api.php?query=get_entry&entry={entry[\"entry_id\"]}') as url:\n",
    "        ext_url = json.load(url)[\"data\"][\"entries\"][entry[\"entry_id\"]][\"ext_url\"]\n",
    "    \n",
    "    acc.append({\n",
    "        \"item_id\": entry[\"item_id\"],\n",
    "        \"statement_guid\": wd_props[data[\"pid\"]][0][\"id\"],\n",
    "        \"property_id\": data[\"pid\"],\n",
    "        \"wikidata_value\": data[\"wd_time\"],\n",
    "        \"meta_wikidata_value\": NAN,\n",
    "        \"external_value\": data[\"mnm_time\"],\n",
    "        \"external_url\": ext_url,\n",
    "        \"type\": \"statement\",\n",
    "    })"
   ]
  },
  {
   "cell_type": "code",
   "execution_count": 12,
   "id": "0f9f4c29-62f5-4469-a2f4-77db8017dadd",
   "metadata": {},
   "outputs": [],
   "source": [
    "import nest_asyncio\n",
    "nest_asyncio.apply()"
   ]
  },
  {
   "cell_type": "code",
   "execution_count": 13,
   "id": "db17c623-0bde-4d87-af73-eceeaa3920c6",
   "metadata": {},
   "outputs": [
    {
     "name": "stderr",
     "output_type": "stream",
     "text": [
      "  0%|          | 0/82996 [00:00<?, ?it/s]/tmp/ipykernel_76247/2907982784.py:8: DeprecationWarning: ssl.SSLContext() without protocol argument is deprecated.\n",
      "  async with session.get(req, ssl=ssl.SSLContext()) as response:\n",
      "/tmp/ipykernel_76247/2907982784.py:8: DeprecationWarning: ssl.PROTOCOL_TLS is deprecated\n",
      "  async with session.get(req, ssl=ssl.SSLContext()) as response:\n",
      "  0%|          | 74.5/82996 [00:42<47:20, 29.19it/s]    /tmp/ipykernel_76247/2907982784.py:18: DeprecationWarning: ssl.SSLContext() without protocol argument is deprecated.\n",
      "  async with session.get(url, ssl=ssl.SSLContext()) as response:\n",
      "/tmp/ipykernel_76247/2907982784.py:18: DeprecationWarning: ssl.PROTOCOL_TLS is deprecated\n",
      "  async with session.get(url, ssl=ssl.SSLContext()) as response:\n",
      "  8%|▊         | 6556.0/82996 [05:41<1:06:27, 19.17it/s]\n"
     ]
    }
   ],
   "source": [
    "import asyncio\n",
    "import aiohttp\n",
    "import ssl\n",
    "\n",
    "acc = []\n",
    "\n",
    "async def fetch(session, entry):\n",
    "    data = entry[\"time_mismatch\"]\n",
    "    req = f'https://www.wikidata.org/w/rest.php/wikibase/v0/entities/items/{entry[\"item_id\"]}?_fields=statements'\n",
    "    async with session.get(req, ssl=ssl.SSLContext()) as response:\n",
    "        wd_props = (await response.json())[\"statements\"]\n",
    "        pbar.update(0.5)\n",
    "        \n",
    "        if \"P1220\" not in wd_props:  # https://www.wikidata.org/wiki/Property:P1220\n",
    "            # No mix'n'match id, meaning it is automatic, not manual match & should be skipped\n",
    "            pbar.update(0.5)\n",
    "            return False\n",
    "\n",
    "        url = f'https://mix-n-match.toolforge.org/api.php?query=get_entry&entry={entry[\"entry_id\"]}'\n",
    "        async with session.get(url, ssl=ssl.SSLContext()) as response:\n",
    "            ext_url = (await response.json())[\"data\"][\"entries\"][entry[\"entry_id\"]][\"ext_url\"]\n",
    "            pbar.update(0.5)\n",
    "        \n",
    "            acc.push({\n",
    "                \"item_id\": entry[\"item_id\"],\n",
    "                \"statement_guid\": wd_props[data[\"pid\"]][0][\"id\"],\n",
    "                \"property_id\": data[\"pid\"],\n",
    "                \"wikidata_value\": data[\"wd_time\"],\n",
    "                \"meta_wikidata_value\": NAN,\n",
    "                \"external_value\": data[\"mnm_time\"],\n",
    "                \"external_url\": ext_url,\n",
    "                \"type\": \"statement\",\n",
    "            })\n",
    "            return True\n",
    "\n",
    "\n",
    "async def fetch_all(urls, loop):\n",
    "    async with aiohttp.ClientSession(loop=loop, read_timeout=None) as session:\n",
    "        results = await asyncio.gather(*[fetch(session, url) for url in urls], return_exceptions=True)\n",
    "        return results\n",
    "\n",
    "\n",
    "if __name__ == '__main__':\n",
    "    pbar = tqdm(total=len(mnm_mismatch_data_expanded))\n",
    "    loop = asyncio.get_event_loop()\n",
    "    status = loop.run_until_complete(fetch_all(mnm_mismatch_data_expanded, loop))\n",
    "    pbar.close()\n"
   ]
  },
  {
   "cell_type": "code",
   "execution_count": 25,
   "id": "45c72720-aaab-4929-acee-7f0c9877e405",
   "metadata": {},
   "outputs": [
    {
     "data": {
      "text/plain": [
       "ContentTypeError(RequestInfo(url=URL('https://www.wikidata.org/w/rest.php/wikibase/v0/entities/items/Q112012?_fields=statements'), method='GET', headers=<CIMultiDictProxy('Host': 'www.wikidata.org', 'Accept': '*/*', 'Accept-Encoding': 'gzip, deflate', 'User-Agent': 'Python/3.11 aiohttp/3.8.6')>, real_url=URL('https://www.wikidata.org/w/rest.php/wikibase/v0/entities/items/Q112012?_fields=statements')), (), message='Attempt to decode JSON with unexpected mimetype: text/html; charset=utf-8', headers=<CIMultiDictProxy('Date': 'Thu, 15 Feb 2024 17:43:36 GMT', 'Server': 'Varnish', 'x-cache': 'cp1104 int', 'x-cache-status': 'int-front', 'server-timing': 'cache;desc=\"int-front\", host;desc=\"cp1104\"', 'strict-transport-security': 'max-age=106384710; includeSubDomains; preload', 'report-to': '{ \"group\": \"wm_nel\", \"max_age\": 604800, \"endpoints\": [{ \"url\": \"https://intake-logging.wikimedia.org/v1/events?stream=w3c.reportingapi.network_error&schema_uri=/w3c/reportingapi/network_error/1.0.0\" }] }', 'nel': '{ \"report_to\": \"wm_nel\", \"max_age\": 604800, \"failure_fraction\": 0.05, \"success_fraction\": 0.0}', 'Set-Cookie': 'WMF-Last-Access=15-Feb-2024;Path=/;HttpOnly;secure;Expires=Mon, 18 Mar 2024 12:00:00 GMT', 'Set-Cookie': 'WMF-Last-Access-Global=15-Feb-2024;Path=/;Domain=.wikidata.org;HttpOnly;secure;Expires=Mon, 18 Mar 2024 12:00:00 GMT', 'x-client-ip': '128.211.155.42', 'Retry-After': '1', 'Content-Type': 'text/html; charset=utf-8', 'Content-Length': '1822')>)"
      ]
     },
     "execution_count": 25,
     "metadata": {},
     "output_type": "execute_result"
    }
   ],
   "source": [
    "nn = list(filter(lambda x: x is not None, acc))\n",
    "nn[2]"
   ]
  },
  {
   "cell_type": "code",
   "execution_count": null,
   "id": "2972c391-c9f1-4e5a-b341-ec9967c25ed9",
   "metadata": {},
   "outputs": [],
   "source": [
    "mismatchDF = pd.DataFrame(acc)\n",
    "mismatchDF"
   ]
  },
  {
   "cell_type": "code",
   "execution_count": null,
   "id": "36d22f6a-3422-4142-b17b-68645b884f37",
   "metadata": {},
   "outputs": [],
   "source": [
    "check_mf_formatting(mismatchDF)\n",
    "len(mismatchDF)"
   ]
  },
  {
   "cell_type": "code",
   "execution_count": null,
   "id": "e13e257f-0c5f-4bad-9685-5fb1e5aa9026",
   "metadata": {},
   "outputs": [],
   "source": [
    "mismatchDF.to_csv(\"first-4327-mismatches.csv\")"
   ]
  }
 ],
 "metadata": {
  "kernelspec": {
   "display_name": "seminar",
   "language": "python",
   "name": "seminar"
  },
  "language_info": {
   "codemirror_mode": {
    "name": "ipython",
    "version": 3
   },
   "file_extension": ".py",
   "mimetype": "text/x-python",
   "name": "python",
   "nbconvert_exporter": "python",
   "pygments_lexer": "ipython3",
   "version": "3.11.5"
  }
 },
 "nbformat": 4,
 "nbformat_minor": 5
}
