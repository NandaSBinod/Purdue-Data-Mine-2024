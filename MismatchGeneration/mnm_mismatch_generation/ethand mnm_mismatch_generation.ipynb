{
 "cells": [
  {
   "cell_type": "markdown",
   "id": "20db9ba0-c5db-4b7b-8a4b-4af73008bc4f",
   "metadata": {},
   "source": [
    "# Mix'n'match Mismatch Generation\n",
    "\n",
    "This notebook is used to genrate mismatches for [Mismatch Finder](https://www.wikidata.org/wiki/Wikidata:Mismatch_Finder) via a request to [Mix'n'match](https://meta.wikimedia.org/wiki/Mix%27n%27match) data stores. Data will be formatted for upload given the [directions for creating a mismatch file](https://github.com/wmde/wikidata-mismatch-finder/blob/main/docs/UserGuide.md#creating-a-mismatches-import-file)."
   ]
  },
  {
   "cell_type": "code",
   "execution_count": null,
   "id": "ee3a1901-41a4-4558-9001-e9798a9686ca",
   "metadata": {
    "scrolled": true
   },
   "outputs": [],
   "source": [
    "#!pip install jupyter-black\n",
    "#!pip install tensorflow"
   ]
  },
  {
   "cell_type": "code",
   "execution_count": null,
   "id": "ff9d2e56-1e12-4db3-9b8e-36f3b81df627",
   "metadata": {},
   "outputs": [],
   "source": [
    "# %load_ext jupyter_black"
   ]
  },
  {
   "cell_type": "code",
   "execution_count": null,
   "id": "dc6f4b0b-6250-4b42-9d1b-95f45ed81426",
   "metadata": {},
   "outputs": [],
   "source": [
    "import ast\n",
    "import json\n",
    "import sys\n",
    "import urllib\n",
    "\n",
    "import numpy as np\n",
    "import pandas as pd\n",
    "\n",
    "PATH_TO_UTILS = \".\"  # change based on your directory structure\n",
    "sys.path.append(PATH_TO_UTILS)\n",
    "\n",
    "from utils import check_mf_formatting"
   ]
  },
  {
   "cell_type": "markdown",
   "id": "23829fcf-f016-472d-9218-b3eab24b9d24",
   "metadata": {},
   "source": [
    "## Get Data"
   ]
  },
  {
   "cell_type": "code",
   "execution_count": null,
   "id": "35b8a007-91a1-428b-aeef-b284b6ba25ee",
   "metadata": {},
   "outputs": [],
   "source": [
    "mnm_mismatch_request_url = (\n",
    "    \"https://mix-n-match.toolforge.org/api.php?query=all_issues&mode=time_mismatch\"\n",
    ")"
   ]
  },
  {
   "cell_type": "code",
   "execution_count": null,
   "id": "b62ba9a4-5ebf-4d94-adfa-c0c78502d548",
   "metadata": {},
   "outputs": [],
   "source": [
    "with urllib.request.urlopen(mnm_mismatch_request_url) as url:\n",
    "    mnm_mismatch_data = json.load(url)"
   ]
  },
  {
   "cell_type": "code",
   "execution_count": null,
   "id": "77a565d4-5580-452e-ab83-cc8343d3e06c",
   "metadata": {},
   "outputs": [],
   "source": [
    "print(f\"{len(mnm_mismatch_data['data']):,}\")"
   ]
  },
  {
   "cell_type": "code",
   "execution_count": null,
   "id": "1cd4f7eb-b22e-44f0-a79d-d36430296381",
   "metadata": {},
   "outputs": [],
   "source": [
    "mnm_mismatch_data[\"data\"][:2]"
   ]
  },
  {
   "cell_type": "code",
   "execution_count": null,
   "id": "9bc5e35a-922f-411d-ada5-0f51693f2c1c",
   "metadata": {},
   "outputs": [],
   "source": [
    "mnm_mismatch_data_expanded = []\n",
    "for d in mnm_mismatch_data[\"data\"]:\n",
    "    d[\"source\"] = f\"https://mix-n-match.toolforge.org/#/entry/{d['entry_id']}\"\n",
    "    d.pop(\"issue_id\", None)\n",
    "    d[\"time_mismatch\"][\"pid\"] = d[\"time_mismatch\"].pop(\"prop\")\n",
    "    d[\"time_mismatch\"][\"qid\"] = d[\"time_mismatch\"].pop(\"q\")\n",
    "    d[\"item_id\"] = d[\"time_mismatch\"][\"qid\"]\n",
    "\n",
    "    mnm_mismatch_data_expanded.append(d)"
   ]
  },
  {
   "cell_type": "code",
   "execution_count": null,
   "id": "a5b5dae5-6ee9-4ff1-a898-82ff85c0aca3",
   "metadata": {},
   "outputs": [],
   "source": [
    "mnm_mismatch_data_expanded[:2]"
   ]
  },
  {
   "cell_type": "code",
   "execution_count": null,
   "id": "cd9268f5-517c-4177-8c06-13b6057c30d5",
   "metadata": {},
   "outputs": [],
   "source": [
    "import pandas as pd\n",
    "from numpy import NAN\n",
    "from tqdm import tqdm"
   ]
  },
  {
   "cell_type": "code",
   "execution_count": null,
   "id": "a182ed06-6729-4ae1-9373-4867705476a0",
   "metadata": {},
   "outputs": [],
   "source": [
    "acc = []\n",
    "for entry in tqdm(mnm_mismatch_data_expanded):\n",
    "    data = entry[\"time_mismatch\"]\n",
    "    req = f'https://www.wikidata.org/w/rest.php/wikibase/v0/entities/items/{entry[\"item_id\"]}?_fields=statements'\n",
    "    try:\n",
    "        with urllib.request.urlopen(req) as url:\n",
    "            wd_props = json.load(url)[\"statements\"]\n",
    "    except urllib.request.HTTPError as e:\n",
    "        # Fixed in newer version https://stackoverflow.com/questions/67723860/python-urllib-request-urlopen-http-error-308-permanent-redirect\n",
    "        print(\"Skipped\", req)\n",
    "        print(e)\n",
    "        continue\n",
    "    \n",
    "    if \"P1220\" not in wd_props:  # https://www.wikidata.org/wiki/Property:P1220\n",
    "        # No mix'n'match id, meaning it is automatic, not manual match & should be skipped\n",
    "        continue\n",
    "\n",
    "    with urllib.request.urlopen(f'https://mix-n-match.toolforge.org/api.php?query=get_entry&entry={entry[\"entry_id\"]}') as url:\n",
    "        ext_url = json.load(url)[\"data\"][\"entries\"][entry[\"entry_id\"]][\"ext_url\"]\n",
    "    \n",
    "    acc.append({\n",
    "        \"item_id\": entry[\"item_id\"],\n",
    "        \"statement_guid\": wd_props[data[\"pid\"]][0][\"id\"],\n",
    "        \"property_id\": data[\"pid\"],\n",
    "        \"wikidata_value\": data[\"wd_time\"],\n",
    "        \"meta_wikidata_value\": NAN,\n",
    "        \"external_value\": data[\"mnm_time\"],\n",
    "        \"external_url\": ext_url,\n",
    "        \"type\": \"statement\",\n",
    "    })\n",
    "pd.DataFrame(acc)"
   ]
  }
 ],
 "metadata": {
  "kernelspec": {
   "display_name": "Python 3 (ipykernel)",
   "language": "python",
   "name": "python3"
  },
  "language_info": {
   "codemirror_mode": {
    "name": "ipython",
    "version": 3
   },
   "file_extension": ".py",
   "mimetype": "text/x-python",
   "name": "python",
   "nbconvert_exporter": "python",
   "pygments_lexer": "ipython3",
   "version": "3.10.12"
  }
 },
 "nbformat": 4,
 "nbformat_minor": 5
}
