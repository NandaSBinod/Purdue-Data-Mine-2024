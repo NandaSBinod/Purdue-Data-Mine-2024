{
 "cells": [
  {
   "cell_type": "markdown",
   "id": "20db9ba0-c5db-4b7b-8a4b-4af73008bc4f",
   "metadata": {},
   "source": [
    "# Mix'n'match Mismatch Generation\n",
    "\n",
    "This notebook is used to genrate mismatches for [Mismatch Finder](https://www.wikidata.org/wiki/Wikidata:Mismatch_Finder) via a request to [Mix'n'match](https://meta.wikimedia.org/wiki/Mix%27n%27match) data stores. Data will be formatted for upload given the [directions for creating a mismatch file](https://github.com/wmde/wikidata-mismatch-finder/blob/main/docs/UserGuide.md#creating-a-mismatches-import-file)."
   ]
  },
  {
   "cell_type": "code",
   "execution_count": null,
   "id": "ee3a1901-41a4-4558-9001-e9798a9686ca",
   "metadata": {
    "scrolled": true
   },
   "outputs": [],
   "source": [
    "#!pip install jupyter-black\n",
    "#!pip install tensorflow\n",
    "#!pip install aiohttp"
   ]
  },
  {
   "cell_type": "code",
   "execution_count": null,
   "id": "ff9d2e56-1e12-4db3-9b8e-36f3b81df627",
   "metadata": {},
   "outputs": [],
   "source": [
    "# %load_ext jupyter_black"
   ]
  },
  {
   "cell_type": "code",
   "execution_count": null,
   "id": "dc6f4b0b-6250-4b42-9d1b-95f45ed81426",
   "metadata": {},
   "outputs": [],
   "source": [
    "import ast\n",
    "import json\n",
    "import sys\n",
    "import urllib\n",
    "\n",
    "import numpy as np\n",
    "import pandas as pd\n",
    "from tqdm import tqdm\n",
    "\n",
    "PATH_TO_UTILS = \"../\"  # change based on your directory structure\n",
    "sys.path.append(PATH_TO_UTILS)\n",
    "\n",
    "from utils import check_mf_formatting"
   ]
  },
  {
   "cell_type": "markdown",
   "id": "23829fcf-f016-472d-9218-b3eab24b9d24",
   "metadata": {},
   "source": [
    "## Get data"
   ]
  },
  {
   "cell_type": "code",
   "execution_count": null,
   "id": "35b8a007-91a1-428b-aeef-b284b6ba25ee",
   "metadata": {},
   "outputs": [],
   "source": [
    "mnm_mismatch_request_url = (\n",
    "    \"https://mix-n-match.toolforge.org/api.php?query=all_issues&mode=time_mismatch\"\n",
    ")"
   ]
  },
  {
   "cell_type": "code",
   "execution_count": null,
   "id": "b62ba9a4-5ebf-4d94-adfa-c0c78502d548",
   "metadata": {},
   "outputs": [],
   "source": [
    "with urllib.request.urlopen(mnm_mismatch_request_url) as url:\n",
    "    mnm_mismatch_data = json.load(url)"
   ]
  },
  {
   "cell_type": "code",
   "execution_count": null,
   "id": "9bc5e35a-922f-411d-ada5-0f51693f2c1c",
   "metadata": {},
   "outputs": [],
   "source": [
    "mnm_mismatch_data_expanded = []\n",
    "for d in mnm_mismatch_data[\"data\"]:\n",
    "    d[\"source\"] = f\"https://mix-n-match.toolforge.org/#/entry/{d['entry_id']}\"\n",
    "    d.pop(\"issue_id\", None)\n",
    "    d[\"time_mismatch\"][\"pid\"] = d[\"time_mismatch\"].pop(\"prop\")\n",
    "    d[\"time_mismatch\"][\"qid\"] = d[\"time_mismatch\"].pop(\"q\")\n",
    "    d[\"item_id\"] = d[\"time_mismatch\"][\"qid\"]\n",
    "\n",
    "    mnm_mismatch_data_expanded.append(d)"
   ]
  },
  {
   "cell_type": "markdown",
   "id": "2f983ff6-e135-44da-9f15-1fba81f17784",
   "metadata": {
    "tags": []
   },
   "source": [
    "## Explore data"
   ]
  },
  {
   "cell_type": "code",
   "execution_count": null,
   "id": "77a565d4-5580-452e-ab83-cc8343d3e06c",
   "metadata": {},
   "outputs": [],
   "source": [
    "print(f\"{len(mnm_mismatch_data['data']):,}\")"
   ]
  },
  {
   "cell_type": "code",
   "execution_count": null,
   "id": "1cd4f7eb-b22e-44f0-a79d-d36430296381",
   "metadata": {},
   "outputs": [],
   "source": [
    "mnm_mismatch_data[\"data\"][:2]"
   ]
  },
  {
   "cell_type": "code",
   "execution_count": null,
   "id": "a5b5dae5-6ee9-4ff1-a898-82ff85c0aca3",
   "metadata": {},
   "outputs": [],
   "source": [
    "mnm_mismatch_data_expanded[:2]"
   ]
  },
  {
   "cell_type": "code",
   "execution_count": null,
   "id": "a04e9275-271a-4e77-a74f-02d39e57f946",
   "metadata": {},
   "outputs": [],
   "source": [
    "mnm_mismatch_data_expanded = list(filter(lambda d: d[\"time_mismatch\"][\"wd_time\"] != d[\"time_mismatch\"][\"mnm_time\"], mnm_mismatch_data_expanded))\n",
    "len(mnm_mismatch_data_expanded)"
   ]
  },
  {
   "cell_type": "markdown",
   "id": "c22af1c5-1934-44c0-813d-48aeba6bca9c",
   "metadata": {},
   "source": [
    "## Sync implementation"
   ]
  },
  {
   "cell_type": "code",
   "execution_count": null,
   "id": "a182ed06-6729-4ae1-9373-4867705476a0",
   "metadata": {},
   "outputs": [],
   "source": [
    "acc = []\n",
    "for entry in tqdm(mnm_mismatch_data_expanded):\n",
    "    data = entry[\"time_mismatch\"]\n",
    "    req = f\"https://www.wikidata.org/w/rest.php/wikibase/v0/entities/items/{entry['item_id']}?_fields=statements\"\n",
    "    try:\n",
    "        with urllib.request.urlopen(req) as url:\n",
    "            wd_props = json.load(url)[\"statements\"]\n",
    "    except urllib.request.HTTPError as e:\n",
    "        # Fixed in newer version https://stackoverflow.com/questions/67723860/python-urllib-request-urlopen-http-error-308-permanent-redirect.\n",
    "        print(\"Skipped\", req)\n",
    "        print(e)\n",
    "        continue\n",
    "\n",
    "    with urllib.request.urlopen(f\"https://mix-n-match.toolforge.org/api.php?query=get_entry&entry={entry['entry_id']}\") as url:\n",
    "        ext_url = json.load(url)[\"data\"][\"entries\"][entry[\"entry_id\"]][\"ext_url\"]\n",
    "    \n",
    "    acc.append({\n",
    "        \"item_id\": entry[\"item_id\"],\n",
    "        \"statement_guid\": wd_props[data[\"pid\"]][0][\"id\"],\n",
    "        \"property_id\": data[\"pid\"],\n",
    "        \"wikidata_value\": data[\"wd_time\"],\n",
    "        \"meta_wikidata_value\": np.NAN,\n",
    "        \"external_value\": data[\"mnm_time\"],\n",
    "        \"external_url\": ext_url,\n",
    "        \"type\": \"statement\",\n",
    "    })"
   ]
  },
  {
   "cell_type": "markdown",
   "id": "3dedff48-7168-4952-828e-71cb5854e5a0",
   "metadata": {
    "tags": []
   },
   "source": [
    "## Async implementation\n",
    "(currently too fast)"
   ]
  },
  {
   "cell_type": "code",
   "execution_count": null,
   "id": "0f9f4c29-62f5-4469-a2f4-77db8017dadd",
   "metadata": {},
   "outputs": [],
   "source": [
    "import nest_asyncio\n",
    "nest_asyncio.apply()\n",
    "\n",
    "import asyncio\n",
    "import aiohttp\n",
    "import ssl\n",
    "import json"
   ]
  },
  {
   "cell_type": "code",
   "execution_count": null,
   "id": "db17c623-0bde-4d87-af73-eceeaa3920c6",
   "metadata": {},
   "outputs": [],
   "source": [
    "acc = []\n",
    "\n",
    "async def fetch(session, entry):\n",
    "    data = entry[\"time_mismatch\"]\n",
    "    req = f\"https://www.wikidata.org/w/rest.php/wikibase/v0/entities/items/{entry['item_id']}?_fields=statements\"\n",
    "    async with session.get(req, ssl=ssl.SSLContext()) as response:\n",
    "        try:\n",
    "            wd_props = (await response.json())[\"statements\"]\n",
    "        except:\n",
    "            print(await response.text())\n",
    "        pbar.update(0.5)\n",
    "\n",
    "        url = f\"https://mix-n-match.toolforge.org/api.php?query=get_entry&entry={entry['entry_id']}\"\n",
    "        async with session.get(url, ssl=ssl.SSLContext()) as response:\n",
    "            ext_url = (await response.json())[\"data\"][\"entries\"][entry[\"entry_id\"]][\"ext_url\"]\n",
    "            pbar.update(0.5)\n",
    "        \n",
    "            acc.append({\n",
    "                \"item_id\": entry[\"item_id\"],\n",
    "                \"statement_guid\": wd_props[data[\"pid\"]][0][\"id\"],\n",
    "                \"property_id\": data[\"pid\"],\n",
    "                \"wikidata_value\": data[\"wd_time\"],\n",
    "                \"meta_wikidata_value\": np.NAN,\n",
    "                \"external_value\": data[\"mnm_time\"],\n",
    "                \"external_url\": ext_url,\n",
    "                \"type\": \"statement\",\n",
    "            })\n",
    "            return True\n",
    "\n",
    "\n",
    "async def fetch_all(urls, loop):\n",
    "    async with aiohttp.ClientSession(loop=loop) as session:  # read_timeout=None\n",
    "        results = await asyncio.gather(*[fetch(session, url) for url in urls], return_exceptions=True)\n",
    "        return results\n",
    "\n",
    "\n",
    "if __name__ == \"__main__\":\n",
    "    pbar = tqdm(total=len(mnm_mismatch_data_expanded))\n",
    "    loop = asyncio.get_event_loop()\n",
    "    status = loop.run_until_complete(fetch_all(mnm_mismatch_data_expanded, loop))\n",
    "    pbar.close()"
   ]
  },
  {
   "cell_type": "code",
   "execution_count": null,
   "id": "45c72720-aaab-4929-acee-7f0c9877e405",
   "metadata": {},
   "outputs": [],
   "source": [
    "nn = list(filter(lambda x: x is not None, acc))\n",
    "nn[2]"
   ]
  },
  {
   "cell_type": "markdown",
   "id": "33284bcd-e6d1-46a7-a14a-d4d40b107f37",
   "metadata": {},
   "source": [
    "## Saving"
   ]
  },
  {
   "cell_type": "code",
   "execution_count": null,
   "id": "2972c391-c9f1-4e5a-b341-ec9967c25ed9",
   "metadata": {},
   "outputs": [],
   "source": [
    "mismatchDF = pd.DataFrame(acc)\n",
    "mismatchDF"
   ]
  },
  {
   "cell_type": "code",
   "execution_count": null,
   "id": "36d22f6a-3422-4142-b17b-68645b884f37",
   "metadata": {},
   "outputs": [],
   "source": [
    "check_mf_formatting(mismatchDF)\n",
    "len(mismatchDF)"
   ]
  },
  {
   "cell_type": "code",
   "execution_count": null,
   "id": "e13e257f-0c5f-4bad-9685-5fb1e5aa9026",
   "metadata": {},
   "outputs": [],
   "source": [
    "mismatchDF.to_csv(\"first-4327-mismatches.csv\")"
   ]
  },
  {
   "cell_type": "markdown",
   "id": "44de9e29",
   "metadata": {},
   "source": [
    "## Review check of data"
   ]
  },
  {
   "cell_type": "markdown",
   "id": "7ea50dfa",
   "metadata": {},
   "source": [
    "The original csv was saved without `index=False`, so we need to reload and resave it as a column for the index was created that's invalid for Mismatch Finder uploads."
   ]
  },
  {
   "cell_type": "code",
   "execution_count": null,
   "id": "df9a934f",
   "metadata": {},
   "outputs": [],
   "source": [
    "mismatchDF = pd.read_csv(\"first-4327-mismatches.csv\", index_col=0)\n",
    "print(len(mismatchDF))\n",
    "mismatchDF.head()"
   ]
  },
  {
   "cell_type": "code",
   "execution_count": null,
   "id": "7ba101f0",
   "metadata": {},
   "outputs": [],
   "source": [
    "check_mf_formatting(mismatchDF)"
   ]
  },
  {
   "cell_type": "code",
   "execution_count": null,
   "id": "c70b2533",
   "metadata": {},
   "outputs": [],
   "source": [
    "mismatchDF.to_csv(\"first-4327-mismatches.csv\", index=False)"
   ]
  },
  {
   "cell_type": "code",
   "execution_count": null,
   "id": "1a7dadba",
   "metadata": {},
   "outputs": [],
   "source": []
  }
 ],
 "metadata": {
  "kernelspec": {
   "display_name": "Python 3 (ipykernel)",
   "language": "python",
   "name": "python3"
  },
  "language_info": {
   "codemirror_mode": {
    "name": "ipython",
    "version": 3
   },
   "file_extension": ".py",
   "mimetype": "text/x-python",
   "name": "python",
   "nbconvert_exporter": "python",
   "pygments_lexer": "ipython3",
   "version": "3.11.4"
  }
 },
 "nbformat": 4,
 "nbformat_minor": 5
}
